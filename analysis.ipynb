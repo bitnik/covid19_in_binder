{
 "cells": [
  {
   "cell_type": "markdown",
   "metadata": {},
   "source": [
    "analyse launches, which contains \"corona\" or \"covid\" in `spec`"
   ]
  },
  {
   "cell_type": "code",
   "execution_count": null,
   "metadata": {},
   "outputs": [],
   "source": [
    "import pandas as pd\n",
    "import matplotlib.pyplot as plt\n",
    "import matplotlib.dates as mdates\n",
    "from urllib.parse import unquote\n",
    "%matplotlib inline"
   ]
  },
  {
   "cell_type": "code",
   "execution_count": null,
   "metadata": {},
   "outputs": [],
   "source": [
    "df = pd.read_csv(\"covid_binder_launches_2019_12_01_2020_09_10.csv\")"
   ]
  },
  {
   "cell_type": "code",
   "execution_count": null,
   "metadata": {},
   "outputs": [],
   "source": [
    "df.info()"
   ]
  },
  {
   "cell_type": "code",
   "execution_count": null,
   "metadata": {},
   "outputs": [],
   "source": [
    "# convert timestamp to datetime\n",
    "df[\"date\"] = pd.to_datetime(df[\"timestamp\"])\n",
    "# select only the columns that are needed for analysis\n",
    "df = df[[\"date\", \"provider\", \"spec\"]]\n",
    "# set date as index\n",
    "df.set_index('date',inplace=True)"
   ]
  },
  {
   "cell_type": "code",
   "execution_count": null,
   "metadata": {},
   "outputs": [],
   "source": [
    "df.head()"
   ]
  },
  {
   "cell_type": "markdown",
   "metadata": {},
   "source": [
    "## Launch analysis"
   ]
  },
  {
   "cell_type": "markdown",
   "metadata": {},
   "source": [
    "### Number of launches"
   ]
  },
  {
   "cell_type": "code",
   "execution_count": null,
   "metadata": {},
   "outputs": [],
   "source": [
    "len(df)"
   ]
  },
  {
   "cell_type": "markdown",
   "metadata": {},
   "source": [
    "### Number of launches per day"
   ]
  },
  {
   "cell_type": "code",
   "execution_count": null,
   "metadata": {},
   "outputs": [],
   "source": [
    "# .size() returns Series, so convert it into dataframe\n",
    "df_launch = df.groupby([df.index.date]).size().to_frame(name=\"launches\")"
   ]
  },
  {
   "cell_type": "code",
   "execution_count": null,
   "metadata": {},
   "outputs": [],
   "source": [
    "ax = df_launch.plot(y=\"launches\", kind=\"bar\", use_index=True, figsize=(20, 5))\n",
    "\n",
    "# show x labels only for beginning of weeks, otherwise it not readable\n",
    "x = [i.strftime('%b %d') if i.isoweekday() == 1 else \"\" for i in df_launch.index]\n",
    "# set_xticklabels return the list, pass it to a variable in order not to output them\n",
    "_ = ax.set_xticklabels(x, rotation=0)"
   ]
  },
  {
   "cell_type": "markdown",
   "metadata": {},
   "source": [
    "## Repo analysis"
   ]
  },
  {
   "cell_type": "code",
   "execution_count": null,
   "metadata": {},
   "outputs": [],
   "source": [
    "df.provider.unique()"
   ]
  },
  {
   "cell_type": "code",
   "execution_count": null,
   "metadata": {},
   "outputs": [],
   "source": [
    "def unique_repo_info(provider, spec):\n",
    "    \"\"\"\n",
    "    Strips out the ref info and returns the unique repo info from provider and spec.\n",
    "    \"\"\"\n",
    "    prefix = {\n",
    "        'GitHub': 'gh',\n",
    "        'Gist': 'gist',\n",
    "        'GitLab': 'gl',\n",
    "        'Git': 'git',\n",
    "        'Zenodo': 'zenodo',\n",
    "        'Figshare': 'figshare',\n",
    "        'Hydroshare': 'hydroshare',\n",
    "        'Dataverse': 'dataverse',\n",
    "    }\n",
    "\n",
    "    if provider == 'GitHub':\n",
    "        org, repo_name, _ = spec.split('/', 2)\n",
    "        namespace = f\"{org}/{repo_name}\"\n",
    "    elif provider == 'GitLab':\n",
    "        quoted_namespace, _ = spec.split('/', 1)\n",
    "        namespace = unquote(quoted_namespace)\n",
    "    elif provider == 'Git':\n",
    "        quoted_repo_url, _ = spec.rsplit('/', 1)\n",
    "        namespace = unquote(quoted_repo_url)\n",
    "    else:\n",
    "        raise Exception(f\"parsing {provider} is not implemented\")\n",
    "\n",
    "    if namespace.endswith(\".git\"):\n",
    "        namespace = namespace[:-(len(\".git\"))]\n",
    "    repo = f'{prefix[provider]}/{namespace}'\n",
    "\n",
    "    return repo"
   ]
  },
  {
   "cell_type": "code",
   "execution_count": null,
   "metadata": {},
   "outputs": [],
   "source": [
    "df[\"repo\"] = df.apply(lambda row: unique_repo_info(row[\"provider\"], row[\"spec\"]), axis=1)"
   ]
  },
  {
   "cell_type": "code",
   "execution_count": null,
   "metadata": {},
   "outputs": [],
   "source": [
    "df_repo = df[[\"repo\"]]"
   ]
  },
  {
   "cell_type": "code",
   "execution_count": null,
   "metadata": {},
   "outputs": [],
   "source": [
    "df_repo.head()"
   ]
  },
  {
   "cell_type": "markdown",
   "metadata": {},
   "source": [
    "### Number of unique repos"
   ]
  },
  {
   "cell_type": "code",
   "execution_count": null,
   "metadata": {},
   "outputs": [],
   "source": [
    "len(df_repo.repo.unique())"
   ]
  },
  {
   "cell_type": "markdown",
   "metadata": {},
   "source": [
    "### Popular repos"
   ]
  },
  {
   "cell_type": "code",
   "execution_count": null,
   "metadata": {},
   "outputs": [],
   "source": [
    "df_repo.groupby([\"repo\"]).size().reset_index(name=\"launches\").sort_values(\"launches\", ascending=False).head(10)"
   ]
  },
  {
   "cell_type": "markdown",
   "metadata": {},
   "source": [
    "### Number of launched repos per day"
   ]
  },
  {
   "cell_type": "code",
   "execution_count": null,
   "metadata": {},
   "outputs": [],
   "source": [
    "# nunique: https://pandas.pydata.org/pandas-docs/stable/reference/api/pandas.core.groupby.SeriesGroupBy.nunique.html\n",
    "df_repo_unique = df_repo.groupby([df_repo.index.date]).nunique()\n",
    "df_repo_unique.columns = [\"repos\"]"
   ]
  },
  {
   "cell_type": "code",
   "execution_count": null,
   "metadata": {
    "scrolled": true
   },
   "outputs": [],
   "source": [
    "ax = df_repo_unique.plot(y=\"repos\", kind=\"bar\", use_index=True, figsize=(20, 5))\n",
    "\n",
    "# show x labels only for beginning of weeks, otherwise it not readable\n",
    "x = [i.strftime('%b %d') if i.isoweekday() == 1 else \"\" for i in df_repo_unique.index]\n",
    "# set_xticklabels return the list, pass it to a variable in order not to output them\n",
    "_ = ax.set_xticklabels(x, rotation=90)"
   ]
  },
  {
   "cell_type": "code",
   "execution_count": null,
   "metadata": {},
   "outputs": [],
   "source": []
  },
  {
   "cell_type": "code",
   "execution_count": null,
   "metadata": {},
   "outputs": [],
   "source": []
  },
  {
   "cell_type": "code",
   "execution_count": null,
   "metadata": {},
   "outputs": [],
   "source": []
  },
  {
   "cell_type": "code",
   "execution_count": null,
   "metadata": {},
   "outputs": [],
   "source": []
  },
  {
   "cell_type": "code",
   "execution_count": null,
   "metadata": {},
   "outputs": [],
   "source": []
  },
  {
   "cell_type": "code",
   "execution_count": null,
   "metadata": {},
   "outputs": [],
   "source": []
  }
 ],
 "metadata": {
  "kernelspec": {
   "display_name": "Python 3",
   "language": "python",
   "name": "python3"
  },
  "language_info": {
   "codemirror_mode": {
    "name": "ipython",
    "version": 3
   },
   "file_extension": ".py",
   "mimetype": "text/x-python",
   "name": "python",
   "nbconvert_exporter": "python",
   "pygments_lexer": "ipython3",
   "version": "3.7.8"
  }
 },
 "nbformat": 4,
 "nbformat_minor": 4
}
